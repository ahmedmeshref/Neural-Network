{
 "cells": [
  {
   "cell_type": "markdown",
   "metadata": {},
   "source": [
    "# To optimize our neural network\n",
    "## $  \\frac{\\partial E(y_h)}{\\partial W1} = \\frac{\\partial E(y_h)}{\\partial y_h(h)} * \\frac{\\partial y_h(h)}{\\partial h(w)} * \\frac{\\partial h(w)}{\\partial W} $\n",
    "\n",
    "### $1-  E = \\frac{1}{2}(y - y_h)^2 $ "
   ]
  },
  {
   "cell_type": "markdown",
   "metadata": {},
   "source": [
    "### $2- \\frac{\\partial E(y_h)}{\\partial y_h(h)} = -(y - y_h) $"
   ]
  },
  {
   "cell_type": "markdown",
   "metadata": {},
   "source": [
    "### $\\sigma(x)' = $\n",
    "\n",
    "### $3-  y_h = \\sigma(h(w)) $"
   ]
  },
  {
   "cell_type": "markdown",
   "metadata": {},
   "source": [
    "### $4-  \\frac{\\partial y_h}{\\partial h} = \\sigma(h(w))*(1- \\sigma(h(w))) $\n"
   ]
  },
  {
   "cell_type": "markdown",
   "metadata": {},
   "source": [
    "### $5-  h(w) = w_1x_1 + w_2x_2 + w_3x_3 $\n"
   ]
  },
  {
   "cell_type": "markdown",
   "metadata": {},
   "source": [
    "### $6-  \\frac{\\partial h(w)}{\\partial w_1} = x_1 $"
   ]
  },
  {
   "cell_type": "markdown",
   "metadata": {},
   "source": [
    "## $  \\frac{\\partial E(y_h)}{\\partial W1} = -x_1 (y - y_h) \\sigma(w_1x_1 + w_2x_2 + w_3x_3)(1- \\sigma(w_1x_1 + w_2x_2 + w_3x_3))  $\n"
   ]
  },
  {
   "cell_type": "markdown",
   "metadata": {},
   "source": [
    "# optimizing a small neural network of 4 inputs and one output"
   ]
  },
  {
   "cell_type": "code",
   "execution_count": 31,
   "metadata": {},
   "outputs": [],
   "source": [
    "import numpy as np"
   ]
  },
  {
   "cell_type": "code",
   "execution_count": 32,
   "metadata": {},
   "outputs": [],
   "source": [
    "def sigmoid(x):\n",
    "    \"\"\"\n",
    "    Calculate sigmoid\n",
    "    \"\"\"\n",
    "    return 1/(1+np.exp(-x))\n",
    "\n",
    "def sigmoid_prime(x):\n",
    "    \"\"\"\n",
    "    # Derivative of the sigmoid function\n",
    "    \"\"\"\n",
    "    return sigmoid(x) * (1 - sigmoid(x))"
   ]
  },
  {
   "cell_type": "code",
   "execution_count": 36,
   "metadata": {},
   "outputs": [
    {
     "name": "stdout",
     "output_type": "stream",
     "text": [
      "Neural Network output:\n",
      "0.6899744811276125\n",
      "Amount of Error:\n",
      "0.0180451517398528\n"
     ]
    }
   ],
   "source": [
    "learnrate = 0.5\n",
    "x = np.array([1, 2, 3, 4])\n",
    "y = np.array(0.5)\n",
    "\n",
    "# Initial weights\n",
    "w = np.array([0.5, -0.5, 0.3, 0.1])\n",
    "\n",
    "\n",
    "def get_output(x, y, w):\n",
    "    # Calculating the node's linear combination of inputs and weights\n",
    "    h = np.dot(x, w)\n",
    "\n",
    "    # Calculating output of neural network\n",
    "    nn_output = sigmoid(h)\n",
    "    # Calculate error of neural network\n",
    "    error = (1/2)*(y - nn_output)**2\n",
    "    return h, nn_output, error\n",
    "\n",
    "def print_results(nn_output, error):\n",
    "    print('Neural Network output:')\n",
    "    print(nn_output)\n",
    "    print('Amount of Error:')\n",
    "    print(error)    \n",
    "    \n",
    "\n",
    "h, nn_output, error= get_output(x, y, w)\n",
    "print_results(nn_output, error)"
   ]
  },
  {
   "cell_type": "code",
   "execution_count": 37,
   "metadata": {},
   "outputs": [
    {
     "name": "stdout",
     "output_type": "stream",
     "text": [
      "Update number 1\n",
      "Neural Network output:\n",
      "0.5474664422441654\n",
      "Amount of Error:\n",
      "0.0011265315696593451\n",
      "new weights:\n",
      "[ 0.47968131 -0.54063738  0.23904392  0.01872523]\n",
      "-----------------------------------------------------------------------------------------------------\n",
      "Update number 2\n",
      "Neural Network output:\n",
      "0.5035110075120307\n",
      "Amount of Error:\n",
      "6.1635868747680244e-06\n",
      "new weights:\n",
      "[ 0.47380148 -0.55239705  0.22140443 -0.0047941 ]\n",
      "-----------------------------------------------------------------------------------------------------\n",
      "Update number 3\n",
      "Neural Network output:\n",
      "0.5002196579678095\n",
      "Amount of Error:\n",
      "2.4124811411108224e-08\n",
      "new weights:\n",
      "[ 0.47336262 -0.55327476  0.22008786 -0.00654952]\n",
      "-----------------------------------------------------------------------------------------------------\n",
      "Update number 4\n",
      "Neural Network output:\n",
      "0.50001372867686\n",
      "Amount of Error:\n",
      "9.423828416319256e-11\n",
      "new weights:\n",
      "[ 0.47333516 -0.55332967  0.22000549 -0.00665934]\n",
      "-----------------------------------------------------------------------------------------------------\n"
     ]
    }
   ],
   "source": [
    "for i in range(4):\n",
    "    print('Update number {}'.format(i+1))\n",
    "    # Calculating the gradient\n",
    "    gradient = -1 * x * (y - nn_output) * sigmoid_prime(h)\n",
    "    # Calculating change in weights\n",
    "    w -= (learnrate * gradient)\n",
    "    # calculate the output\n",
    "    h, nn_output, error= get_output(x, y, w)\n",
    "    print_results(nn_output, error)\n",
    "    # show the new weights\n",
    "    print(\"new weights:\")\n",
    "    print(w)\n",
    "    print(\"-----------------------------------------------------------------------------------------------------\")\n"
   ]
  },
  {
   "cell_type": "code",
   "execution_count": null,
   "metadata": {},
   "outputs": [],
   "source": []
  }
 ],
 "metadata": {
  "kernelspec": {
   "display_name": "Python 3",
   "language": "python",
   "name": "python3"
  },
  "language_info": {
   "codemirror_mode": {
    "name": "ipython",
    "version": 3
   },
   "file_extension": ".py",
   "mimetype": "text/x-python",
   "name": "python",
   "nbconvert_exporter": "python",
   "pygments_lexer": "ipython3",
   "version": "3.7.3"
  }
 },
 "nbformat": 4,
 "nbformat_minor": 2
}
